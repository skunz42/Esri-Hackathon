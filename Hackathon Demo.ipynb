{
 "cells": [
  {
   "cell_type": "code",
   "execution_count": 203,
   "metadata": {},
   "outputs": [
    {
     "data": {
      "application/vnd.jupyter.widget-view+json": {
       "model_id": "a4e7b6ef0b00449292d7a1fa459a39eb",
       "version_major": 2,
       "version_minor": 0
      },
      "text/plain": [
       "MapView(layout=Layout(height='400px', width='100%'))"
      ]
     },
     "metadata": {},
     "output_type": "display_data"
    },
    {
     "data": {
      "text/html": [
       "<div class=\"map-static-img-preview-0993c627-2355-485f-885d-ea0d3c282f97\"><img src=\"\"></img></div>"
      ],
      "text/plain": [
       "<IPython.core.display.HTML object>"
      ]
     },
     "metadata": {},
     "output_type": "display_data"
    },
    {
     "data": {
      "text/html": [
       "<div class=\"map-html-embed-preview-0993c627-2355-485f-885d-ea0d3c282f97\"></div>"
      ],
      "text/plain": [
       "<IPython.core.display.HTML object>"
      ]
     },
     "metadata": {},
     "output_type": "display_data"
    }
   ],
   "source": [
    "from arcgis.gis import GIS\n",
    "from arcgis.geocoding import geocode\n",
    "\n",
    "import math\n",
    "\n",
    "gis = GIS()\n",
    "m = gis.map(\"New York State\")\n",
    "m"
   ]
  },
  {
   "cell_type": "code",
   "execution_count": 204,
   "metadata": {},
   "outputs": [],
   "source": [
    "start_location = \"New York City\"\n",
    "end_location = \"Detroit\"\n",
    "\n",
    "start_res = geocode(address=start_location)[0]\n",
    "end_res = geocode(address=end_location)[0]"
   ]
  },
  {
   "cell_type": "code",
   "execution_count": 205,
   "metadata": {},
   "outputs": [],
   "source": [
    "start_pop = { \n",
    "    \"title\" : \"Starting Location\", \n",
    "    \"content\" : start_res['address']\n",
    "}\n",
    "\n",
    "end_pop = {\n",
    "    \"title\" : \"End Location\",\n",
    "    \"content\" : end_res['address']\n",
    "}\n",
    "\n",
    "mid_pop = {\n",
    "    \"title\": \"Flight Location\",\n",
    "    \"content\" : \"time\"\n",
    "}\n",
    "\n",
    "m.draw(start_res['location'], start_pop)\n",
    "m.draw(end_res['location'], end_pop)"
   ]
  },
  {
   "cell_type": "code",
   "execution_count": 206,
   "metadata": {},
   "outputs": [
    {
     "name": "stdout",
     "output_type": "stream",
     "text": [
      "999.3766644000011\n",
      "178.7575502000035\n"
     ]
    }
   ],
   "source": [
    "average_plane_kmph = 110 / 0.621371 # average plane speed\n",
    "dot_update_dist = average_plane_kmph / 3600 # how far a plane can travel (in kms) in one second\n",
    "dot_update_dd = dot_update_dist / 110.54\n",
    "\n",
    "change_in_lng = abs(start_res['location']['x'] - end_res['location']['x']) # change in longitude in degrees\n",
    "change_in_lat = abs(start_res['location']['y'] - end_res['location']['y']) # change in latitude in degrees\n",
    "\n",
    "print(change_in_lng * 110.54)\n",
    "print(change_in_lat * 110.54)"
   ]
  },
  {
   "cell_type": "code",
   "execution_count": 207,
   "metadata": {},
   "outputs": [
    {
     "name": "stdout",
     "output_type": "stream",
     "text": [
      "0.00044485629829368444\n",
      "7.95710215244655e-05\n",
      "0.00044485629829368444\n"
     ]
    }
   ],
   "source": [
    "lat_deg_per_sec = (change_in_lat / change_in_lng) * dot_update_dd\n",
    "lng_deg_per_sec = dot_update_dd\n",
    "print(dot_update_dd)\n",
    "print(lat_deg_per_sec)\n",
    "print(lng_deg_per_sec)"
   ]
  },
  {
   "cell_type": "code",
   "execution_count": 208,
   "metadata": {},
   "outputs": [
    {
     "name": "stdout",
     "output_type": "stream",
     "text": [
      "20324\n"
     ]
    }
   ],
   "source": [
    "curr_point = start_res['location']\n",
    "i = 0\n",
    "\n",
    "# Headed west\n",
    "if start_res['location']['x'] > end_res['location']['x']:\n",
    "    # Headed south\n",
    "    if start_res['location']['y'] > end_res['location']['y']:\n",
    "        while curr_point['x'] > end_res['location']['x'] and curr_point['y'] > end_res['location']['y']:\n",
    "            curr_point['x'] -= lng_deg_per_sec\n",
    "            curr_point['y'] -= lat_deg_per_sec\n",
    "            m.draw(curr_point, mid_pop)\n",
    "    # Headed north\n",
    "    else:\n",
    "        while curr_point['x'] > end_res['location']['x'] and curr_point['y'] < end_res['location']['y']:\n",
    "            curr_point['x'] -= lng_deg_per_sec\n",
    "            curr_point['y'] += lat_deg_per_sec\n",
    "            i += 1\n",
    "            if i%48 == 0:\n",
    "                m.draw(curr_point, mid_pop)\n",
    "# Headed east\n",
    "else:\n",
    "    # Headed south\n",
    "    if start_res['location']['y'] > end_res['location']['y']:\n",
    "        while curr_point['x'] < end_res['location']['x'] and curr_point['y'] > end_res['location']['y']:\n",
    "            curr_point['x'] += lng_deg_per_sec\n",
    "            curr_point['y'] -= lat_deg_per_sec\n",
    "            m.draw(curr_point, mid_pop)\n",
    "    # Headed north\n",
    "    else:\n",
    "        while curr_point['x'] < end_res['location']['x'] and curr_point['y'] < end_res['location']['y']:\n",
    "            curr_point['x'] += lng_deg_per_sec\n",
    "            curr_point['y'] += lat_deg_per_sec\n",
    "            m.draw(curr_point, mid_pop)\n",
    "            \n",
    "print(i)"
   ]
  },
  {
   "cell_type": "code",
   "execution_count": null,
   "metadata": {},
   "outputs": [],
   "source": []
  }
 ],
 "metadata": {
  "kernelspec": {
   "display_name": "Python 3",
   "language": "python",
   "name": "python3"
  },
  "language_info": {
   "codemirror_mode": {
    "name": "ipython",
    "version": 3
   },
   "file_extension": ".py",
   "mimetype": "text/x-python",
   "name": "python",
   "nbconvert_exporter": "python",
   "pygments_lexer": "ipython3",
   "version": "3.7.10"
  }
 },
 "nbformat": 4,
 "nbformat_minor": 2
}
